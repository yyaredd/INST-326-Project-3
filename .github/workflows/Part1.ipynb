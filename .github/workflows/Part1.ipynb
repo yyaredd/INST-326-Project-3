{
 "cells": [
  {
   "cell_type": "code",
   "execution_count": 9,
   "metadata": {},
   "outputs": [
    {
     "name": "stdout",
     "output_type": "stream",
     "text": [
      "Caregiver: Yared, Availability: {'Monday': {'7:00 AM - 1:00 PM': 'preferred', '1:00 PM - 7:00 PM': 'available'}, 'Tuesday': {'7:00 AM - 1:00 PM': 'available', '1:00 PM - 7:00 PM': 'available'}, 'Wednesday': {'7:00 AM - 1:00 PM': 'available', '1:00 PM - 7:00 PM': 'available'}, 'Thursday': {'7:00 AM - 1:00 PM': 'available', '1:00 PM - 7:00 PM': 'available'}, 'Friday': {'7:00 AM - 1:00 PM': 'available', '1:00 PM - 7:00 PM': 'available'}, 'Saturday': {'7:00 AM - 1:00 PM': 'available', '1:00 PM - 7:00 PM': 'available'}, 'Sunday': {'7:00 AM - 1:00 PM': 'available', '1:00 PM - 7:00 PM': 'available'}}\n",
      "Caregiver: Joe, Availability: {'Monday': {'7:00 AM - 1:00 PM': 'available', '1:00 PM - 7:00 PM': 'preferred'}, 'Tuesday': {'7:00 AM - 1:00 PM': 'available', '1:00 PM - 7:00 PM': 'available'}, 'Wednesday': {'7:00 AM - 1:00 PM': 'available', '1:00 PM - 7:00 PM': 'available'}, 'Thursday': {'7:00 AM - 1:00 PM': 'available', '1:00 PM - 7:00 PM': 'available'}, 'Friday': {'7:00 AM - 1:00 PM': 'available', '1:00 PM - 7:00 PM': 'available'}, 'Saturday': {'7:00 AM - 1:00 PM': 'available', '1:00 PM - 7:00 PM': 'available'}, 'Sunday': {'7:00 AM - 1:00 PM': 'available', '1:00 PM - 7:00 PM': 'available'}}\n"
     ]
    }
   ],
   "source": [
    "class Caregiver:\n",
    "    def __init__(self, name, phone, email, payRate):\n",
    "        self.name = name\n",
    "        self.phone = phone\n",
    "        self.email = email\n",
    "        self.pay_rate = payRate\n",
    "        self.availability = {\n",
    "            day: {\"7:00 AM - 1:00 PM\": \"available\", \"1:00 PM - 7:00 PM\": \"available\"}\n",
    "            for day in [\"Monday\", \"Tuesday\", \"Wednesday\", \"Thursday\", \"Friday\", \"Saturday\", \"Sunday\"]\n",
    "        }\n",
    "\n",
    "    def set_availability(self, day, shift, status):\n",
    "        if day in self.availability and shift in self.availability[day]:\n",
    "            self.availability[day][shift] = status\n",
    "\n",
    "    def get_availability(self, day):\n",
    "        return self.availability.get(day, {})\n",
    "\n",
    "caregiver1 = Caregiver(\"Yared\", \"123-456-7890\", \"yared@gmail.com\", 18)\n",
    "caregiver2 = Caregiver(\"Joe\", \"987-654-3210\", \"joe@gmail.com\", 20)\n",
    "\n",
    "caregiver1.set_availability(\"Monday\", \"7:00 AM - 1:00 PM\", \"preferred\")\n",
    "caregiver2.set_availability(\"Monday\", \"1:00 PM - 7:00 PM\", \"preferred\")\n",
    "\n",
    "print(f\"Caregiver: {caregiver1.name}, Availability: {caregiver1.availability}\")\n",
    "print(f\"Caregiver: {caregiver2.name}, Availability: {caregiver2.availability}\")\n"
   ]
  }
 ],
 "metadata": {
  "kernelspec": {
   "display_name": "Python 3",
   "language": "python",
   "name": "python3"
  },
  "language_info": {
   "codemirror_mode": {
    "name": "ipython",
    "version": 3
   },
   "file_extension": ".py",
   "mimetype": "text/x-python",
   "name": "python",
   "nbconvert_exporter": "python",
   "pygments_lexer": "ipython3",
   "version": "3.12.1"
  }
 },
 "nbformat": 4,
 "nbformat_minor": 2
}
